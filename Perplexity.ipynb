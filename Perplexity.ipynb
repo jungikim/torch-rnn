{
 "cells": [
  {
   "cell_type": "code",
   "execution_count": 1,
   "metadata": {
    "collapsed": false
   },
   "outputs": [],
   "source": [
    "require 'torch'\n",
    "torch.setdefaulttensortype('torch.FloatTensor')\n",
    "\n",
    "require 'nn'\n",
    "\n",
    "require 'LanguageModel'\n",
    "require 'util.DataLoader'\n",
    "\n",
    "local utils = require 'util.utils'\n",
    "local cmd = torch.CmdLine()\n",
    "\n",
    "cmd:option('-checkpoint', '')\n",
    "cmd:option('-split', 'val')\n",
    "cmd:option('-gpu', -1)\n",
    "cmd:option('-gpu_backend', 'cuda')\n",
    "\n",
    "local myarg = {}\n",
    "myarg[1]='-checkpoint'\n",
    "myarg[2]='cv/checkpoint_16000.t7'\n",
    "myarg[5]='-gpu'\n",
    "myarg[6]=-1\n",
    "\n",
    "opt = cmd:parse(myarg)"
   ]
  },
  {
   "cell_type": "code",
   "execution_count": 2,
   "metadata": {
    "collapsed": false
   },
   "outputs": [
    {
     "data": {
      "text/plain": [
       "Running in CPU mode\t\n"
      ]
     },
     "execution_count": 2,
     "metadata": {},
     "output_type": "execute_result"
    }
   ],
   "source": [
    "-- Set up GPU stuff\n",
    "dtype = 'torch.FloatTensor'\n",
    "if opt.gpu >= 0 and opt.gpu_backend == 'cuda' then\n",
    "  require 'cutorch'\n",
    "  require 'cunn'\n",
    "  cutorch.setDevice(opt.gpu + 1)\n",
    "  dtype = 'torch.CudaTensor'\n",
    "  print(string.format('Running with CUDA on GPU %d', opt.gpu))\n",
    "elseif opt.gpu >= 0 and opt.gpu_backend == 'opencl' then\n",
    "  require 'cltorch'\n",
    "  require 'clnn'\n",
    "  cltorch.setDevice(opt.gpu + 1)\n",
    "  dtype = torch.Tensor():cl():type()\n",
    "  print(string.format('Running with OpenCL on GPU %d', opt.gpu))\n",
    "else\n",
    "  -- Memory benchmarking is only supported in CUDA mode\n",
    "  print 'Running in CPU mode'\n",
    "end"
   ]
  },
  {
   "cell_type": "code",
   "execution_count": 14,
   "metadata": {
    "collapsed": false
   },
   "outputs": [],
   "source": [
    "-- Load the checkpoint and model\n",
    "checkpoint = torch.load(opt.checkpoint)\n",
    "model = checkpoint.model\n",
    "model:type(dtype)\n",
    "model.dropout = 0.0 -- this actually does NOT disable dropout in the model; as the dropout layer is already added"
   ]
  },
  {
   "cell_type": "code",
   "execution_count": 19,
   "metadata": {
    "collapsed": false
   },
   "outputs": [
    {
     "data": {
      "text/plain": [
       "1\t1\t0\t\n",
       "2\t1\t-1.7792618274689\t\n",
       "3\t2\t-1.7797123984492\t\n",
       "4\t3\t-1.7797226791754\t\n",
       "5\t4\t-1.7797402884353\t\n",
       "6\t1\t-1.7797629063643\t\n",
       "7\t3\t-1.7798042782342\t\n",
       "8\t5\t-1.7799482720548\t\n",
       "9\t6\t-1.7799482720548\t\n",
       "10\t2\t-1.7891230697387\t\n",
       "11\t7\t-1.7891230697387\t\n",
       "12\t8\t-1.7891230697387\t\n",
       "13\t9\t-1.7891230697387\t\n",
       "14\t"
      ]
     },
     "execution_count": 19,
     "metadata": {},
     "output_type": "execute_result"
    },
    {
     "data": {
      "text/plain": [
       "10\t-1.7927537697942\t\n",
       "15\t11\t-6.8372588891179\t\n",
       "16\t"
      ]
     },
     "execution_count": 19,
     "metadata": {},
     "output_type": "execute_result"
    },
    {
     "data": {
      "text/plain": [
       "10\t-6.8916490401716\t\n",
       "17\t12\t-13.066644462535\t\n",
       "18\t13\t-14.02299860377\t\n",
       "19\t10\t-14.04921529513\t\n",
       "20\t14\t-16.741634347254\t\n",
       "21\t10\t-16.748998678533\t\n",
       "22\t15\t-20.915171182958\t\n",
       "23\t10\t-21.958461082784\t\n",
       "24\t16\t-28.801147259084\t\n",
       "25\t17\t-29.585054732172\t\n",
       "26\t10\t-29.592092870513\t\n",
       "27\t18\t-36.467625497618\t\n",
       "28\t19\t-39.082425473967\t\n",
       "29\t10\t-39.120321596751\t\n",
       "30\t1\t-39.324067721853\t\n",
       "31\t1\t-39.326044105703\t\n",
       "32\t2\t-39.326044105703\t\n",
       "33\t3\t-39.326044105703\t\n",
       "34\t4\t-39.326044105703\t\n",
       "35\t1\t-39.326085028191\t\n",
       "36\t3\t-39.326970173057\t\n"
      ]
     },
     "execution_count": 19,
     "metadata": {},
     "output_type": "execute_result"
    },
    {
     "data": {
      "text/plain": [
       "37\t5\t-39.326970173057\t\n",
       "38\t6\t-39.32927769866\t\n",
       "39\t2\t-39.332306900305\t\n",
       "40\t7\t-39.332306900305\t\n",
       "41\t8\t-39.332315062224\t\n",
       "42\t9\t-39.332335155294\t\n",
       "43\t10\t-39.333493513008\t\n",
       "44\t20\t-40.735694092651\t\n",
       "45\t10\t-40.741002364502\t\n",
       "46\t21\t-47.083348079072\t\n",
       "47\t22\t-56.724081797944\t\n",
       "48\t10\t-56.792514948593\t\n",
       "49\t23\t-63.215706972824\t\n",
       "50\t24\t-67.310357718216\t\n",
       "51\t10\t-67.317708744155\t\n",
       "52\t25\t-72.145963443862\t\n",
       "53\t10\t-72.148052075598\t\n",
       "54\t1\t-73.557580569479\t\n",
       "55\t1\t-73.561130330152\t\n",
       "56\t2\t-73.561135253034\t\n",
       "57\t3\t-73.561135253034\t\n",
       "58\t4\t-73.561135253034\t\n",
       "59\t1\t-73.56113909822\t\n",
       "60\t3\t-73.561791244222\t\n",
       "61\t5\t-73.561794467405\t\n"
      ]
     },
     "execution_count": 19,
     "metadata": {},
     "output_type": "execute_result"
    },
    {
     "data": {
      "text/plain": [
       "62\t6\t-73.561794467405\t\n",
       "63\t2\t-73.59222963652\t\n",
       "64\t7\t-73.59222963652\t\n",
       "65\t8\t-73.59222963652\t\n",
       "66\t9\t-73.59222963652\t\n",
       "67\t10\t-73.595828637848\t\n",
       "68\t26\t-75.032799110184\t\n",
       "69\t10\t-75.292957857618\t\n",
       "70\t14\t-77.612684324751\t\n",
       "71\t10\t-77.623481334554\t\n",
       "72\t27\t-81.810157359945\t\n",
       "73\t10\t-81.829287213641\t\n",
       "74\t28\t-87.826969785052\t\n",
       "75\t29\t-89.138147754031\t\n",
       "76\t10\t-89.349090931373\t\n",
       "77\t30\t-94.465973255592\t\n",
       "78\t31\t-97.062296268897\t\n",
       "79\t10\t-97.12317874785\t\n",
       "80\t25\t-102.62969377394\t\n",
       "81\t10\t-102.63022228722\t\n",
       "82\t32\t-108.84081217293\t\n",
       "83\t10\t-110.52736433987\t\n",
       "84\t26\t-114.00110205655\t\n",
       "85\t10\t"
      ]
     },
     "execution_count": 19,
     "metadata": {},
     "output_type": "execute_result"
    },
    {
     "data": {
      "text/plain": [
       "-114.09496999924\t\n",
       "86\t33\t-119.36266351883\t\n",
       "87\t10\t-119.97852177565\t\n",
       "88\t34\t-127.76025338118\t\n",
       "89\t10\t-128.19866723959\t\n",
       "90\t35\t-135.19497318213\t\n",
       "91\t10\t-135.93309832756\t\n",
       "92\t14\t-137.22005380337\t\n",
       "93\t10\t-137.23178883847\t\n",
       "94\t36\t-142.17613812742\t\n",
       "95\t10\t-142.17843084895\t\n",
       "96\t21\t-148.18224888407\t\n",
       "97\t22\t-156.87557964884\t\n",
       "98\t10\t-157.01251549386\t\n",
       "99\t23\t-163.54126162194\t\n",
       "100\t24\t-167.90416998529\t\n",
       "101\t10\t-167.91866488681\t\n",
       "102\t37\t-173.53395505176\t\n",
       "103\t38\t-173.57477183194\t\n",
       "104\t10\t-173.58339260165\t\n",
       "105\t27\t-180.42788217609\t\n",
       "106\t10\t-180.58968458716\t\n",
       "107\t39\t-187.92866907661\t\n"
      ]
     },
     "execution_count": 19,
     "metadata": {},
     "output_type": "execute_result"
    },
    {
     "data": {
      "text/plain": [
       "108\t40\t-192.54480276649\t\n",
       "109\t10\t-192.54821866002\t\n",
       "110\t41\t-196.26929061856\t\n",
       "111\t10\t-196.82015924897\t\n",
       "112\t42\t-204.35829096283\t\n",
       "113\t43\t-206.65846591439\t\n",
       "114\t10\t-206.66629121449\t\n",
       "115\t44\t-209.41805122044\t\n",
       "116\t10\t-209.42835013844\t\n",
       "117\t45\t-215.9638344524\t\n",
       "118\t46\t-221.48058431126\t\n",
       "119\t10\t-221.49459704287\t\n",
       "120\t21\t-228.37754162676\t\n",
       "121\t22\t-235.20477923281\t\n",
       "122\t10\t-235.35129124947\t\n",
       "123\t23\t-242.7493801815\t\n",
       "124\t47\t-243.07185150213\t\n",
       "125\t10\t-243.08095600079\t\n",
       "126\t48\t-247.60324813794\t\n",
       "127\t10\t-247.60797535019\t\n",
       "128\t49\t-254.26450620727\t\n",
       "129\t23\t-260.11169897156\t\n",
       "130\t10\t-260.13888148913\t\n",
       "131\t23\t-266.72852973589\t\n",
       "132\t47\t-268.05826799521\t\n",
       "133\t10\t-268.07091259533\t\n"
      ]
     },
     "execution_count": 19,
     "metadata": {},
     "output_type": "execute_result"
    },
    {
     "data": {
      "text/plain": [
       "-271.61745500141\t\n",
       "2.0269959328464\t\n",
       "Perplexity: 7.591247\t\n"
      ]
     },
     "execution_count": 19,
     "metadata": {},
     "output_type": "execute_result"
    }
   ],
   "source": [
    "--local utf8 = require 'lua-utf8'\n",
    "\n",
    "local sen = '__ent_numeric 种 设备 , 其 包括 至少 __ent_numeric 个 片状 部件 ( __ent_numeric ) , 在 运动 方向 ( F ) 上 看 时 , 该 片状 部件 具有 在 板面 内 延伸 的 后端 片状 部分 和 前部 部分 。'\n",
    "\n",
    "local x = model:encode_string(sen):type(dtype)\n",
    "local senLen = x:size(1)\n",
    "x = x:reshape(1, senLen, -1)\n",
    "\n",
    "model:resetStates()\n",
    "local scores = model:forward(x):view(senLen, -1):type(dtype)\n",
    "scores = nn.LogSoftMax():forward(scores):type(dtype)\n",
    "local sum = 0.0\n",
    "for i=1,senLen-1 do\n",
    "  print(i, x[1][i], sum)\n",
    "  sum = sum + scores[i][x[1][i+1]]\n",
    "end\n",
    "--sum = sum + scores[senLen][x1][]]\n",
    "print(sum)\n",
    "local avgNLL = -sum / senLen\n",
    "print(avgNLL)\n",
    "local perp = torch.exp(avgNLL)\n",
    "print(string.format('Perplexity: %f', perp))"
   ]
  },
  {
   "cell_type": "code",
   "execution_count": null,
   "metadata": {
    "collapsed": true
   },
   "outputs": [],
   "source": []
  },
  {
   "cell_type": "code",
   "execution_count": null,
   "metadata": {
    "collapsed": true
   },
   "outputs": [],
   "source": []
  }
 ],
 "metadata": {
  "kernelspec": {
   "display_name": "iTorch",
   "language": "lua",
   "name": "itorch"
  },
  "language_info": {
   "name": "lua",
   "version": "5.1"
  }
 },
 "nbformat": 4,
 "nbformat_minor": 0
}
